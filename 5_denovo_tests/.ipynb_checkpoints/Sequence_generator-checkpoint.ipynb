{
 "cells": [
  {
   "cell_type": "markdown",
   "id": "68417d11-fe45-491e-970e-e49174dffc53",
   "metadata": {},
   "source": [
    "This simple code generates sequences to test alphafold's ability to handle non-natural amino acids."
   ]
  },
  {
   "cell_type": "code",
   "execution_count": 19,
   "id": "cb990d79-3d08-4d8f-8d02-f8785739a1ff",
   "metadata": {},
   "outputs": [
    {
     "name": "stdout",
     "output_type": "stream",
     "text": [
      "NPITLNQRQDQWCGAYNPAMIMCGQLLPGINPPFDMRDTPEMDNRLAFYGQWLMEHCIEHYKMEKRIDHIWTITKFWHQWKNVGITTINNHTGYCIYGYGIMDWWWDEHDPIDIDFRLMRHDFKPMMVEPCLFVREWFWVQKLPYGFLDTCHAENGQDGDQIFNDVAWEVACMAHALPHKCNEFFAITRPFPDLYEVFWDTFLPTRWHPDDHYKCNFNVKFHCNVIQRTARELCGRFTHGYGWCIQECIKWCAAHHWNWVCGEADAFMDNEQHCLRMRNKCNDFTDHKAPLMLQVKLKWARKGQNAPPRIWKWAACHWRHLCYYVAHWPAHECVMPQWHMERHQTNFHALTMGYMEIACEMGKAEPLVKPMPHDEPDIMNCHDEGPIDPYYPIRFLMLMFQDNQQFMWWNCMWYKRCIMCMHTNIAPTRNVGNIKCQLEDLYEHIDDDDRHRIIQKDEPPCQMGHMFAPLKLCCNRVMNEPIPTDIQWEAKKTHGRPRNQ\n"
     ]
    }
   ],
   "source": [
    "import random\n",
    "aminocid_codes = ['A','C', 'D', 'E', 'F', 'G', 'H', 'I','K', 'L', 'M', 'N','P', 'Q', 'R', 'T','V', 'W','Y']\n",
    "amino_num = len(aminocid_codes)\n",
    "sequence_lengths = 500\n",
    "seq = \"\"\n",
    "for j in range(sequence_lengths):\n",
    "    seq += aminocid_codes[random.randint(0, amino_num-1)]\n",
    "print(seq)"
   ]
  }
 ],
 "metadata": {
  "kernelspec": {
   "display_name": "SageMath 10.5",
   "language": "sage",
   "name": "sagemath-10.5"
  },
  "language_info": {
   "codemirror_mode": {
    "name": "ipython",
    "version": 3
   },
   "file_extension": ".py",
   "mimetype": "text/x-python",
   "name": "python",
   "nbconvert_exporter": "python",
   "pygments_lexer": "ipython3",
   "version": "3.12.5"
  }
 },
 "nbformat": 4,
 "nbformat_minor": 5
}
