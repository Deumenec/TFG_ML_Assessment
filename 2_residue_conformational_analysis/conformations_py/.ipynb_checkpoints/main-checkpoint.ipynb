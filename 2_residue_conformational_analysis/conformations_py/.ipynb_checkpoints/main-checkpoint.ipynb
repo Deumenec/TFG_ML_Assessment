{
 "cells": [
  {
   "cell_type": "code",
   "execution_count": null,
   "id": "beb0d7ca-7dcd-4e3a-a5fa-49daa8bb4017",
   "metadata": {
    "scrolled": true
   },
   "outputs": [],
   "source": [
    "########################################################################################################\n",
    "#                                                                                                      #\n",
    "#  Project:  TFG chemistry                                                                             #\n",
    "#  Author:   Domènec Huerta Estradé                                                                    #\n",
    "#  Date:     03/01/2025                                                                                #\n",
    "#  Purpose:  Executing the conforation classification algorithm                                        #\n",
    "#                                                                                                      #\n",
    "########################################################################################################\n",
    "\n",
    "import numpy as np\n",
    "import os\n",
    "import matplotlib.pyplot as plt\n",
    "import MDAnalysis as mda \n",
    "import matplotlib.pyplot as plt\n",
    "from MDAnalysis.analysis import align\n",
    "\n",
    "import useful_functions\n",
    "import residue\n",
    "import config\n",
    "import __init__\n",
    "\n",
    "aminoacid_ensemble = []\n",
    "\n",
    "for aminoacid in config.aminoacids:\n",
    "    aminoacid_ensemble.append(residue.Residue(aminoacid, config.len_aminoacids[aminoacid], config.source, config.conformations, config.output, config.threshold))\n",
    "\n",
    "analized_prote  = input(\"quin fitxer de proteïna vols analitzar?\")\n",
    "u = mda.Universe(config.source+\"/\"+analized_prote)\n",
    "\n",
    "print(len(config.aminoacids),len( config.len_aminoacids))\n",
    "      \n",
    "for i in range(len(aminoacid_ensemble)):\n",
    "    aminoacid_ensemble[i].add_universe(u)\n",
    "    print(config.aminoacids[i]+ \" analitzat\")\n",
    "    print(aminoacid_ensemble[i])\n"
   ]
  },
  {
   "cell_type": "code",
   "execution_count": 1,
   "id": "6bec8bf1-7dab-4c34-9a4a-5c07b39f8454",
   "metadata": {},
   "outputs": [
    {
     "name": "stdout",
     "output_type": "stream",
     "text": [
      "11\n"
     ]
    }
   ],
   "source": [
    "import config\n",
    "print(config.len_aminoacids[\"ARG\"])"
   ]
  },
  {
   "cell_type": "code",
   "execution_count": null,
   "id": "0404d05f-880c-46e4-9dd6-f4fa7f2a7f06",
   "metadata": {},
   "outputs": [],
   "source": [
    "align.alignto??"
   ]
  }
 ],
 "metadata": {
  "kernelspec": {
   "display_name": "Python (TFG_env)",
   "language": "python",
   "name": "tfg_env"
  },
  "language_info": {
   "codemirror_mode": {
    "name": "ipython",
    "version": 3
   },
   "file_extension": ".py",
   "mimetype": "text/x-python",
   "name": "python",
   "nbconvert_exporter": "python",
   "pygments_lexer": "ipython3",
   "version": "3.13.1"
  }
 },
 "nbformat": 4,
 "nbformat_minor": 5
}
