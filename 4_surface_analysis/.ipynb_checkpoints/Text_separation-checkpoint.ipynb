{
 "cells": [
  {
   "cell_type": "markdown",
   "id": "5720b4ae-e3cf-49dc-93bf-936ee93882f1",
   "metadata": {},
   "source": [
    "Separates a given test (FASTA sequence) into individual characters for further trimming"
   ]
  },
  {
   "cell_type": "code",
   "execution_count": 12,
   "id": "c10f6b4c-aef2-4aa7-a85e-c0f818ca27b1",
   "metadata": {},
   "outputs": [
    {
     "name": "stdin",
     "output_type": "stream",
     "text": [
      "please input a fasta sequence  APPMKDYMILSGPQKTAVAVLCTLLGLLSALENVAVLYLILSSHQLRRKPSYLFIGSLALADFLASVVFACSFVNFHVFHGVDSKAVFLLKIGSVTMTFTASVGSLLLAAIDRYLCLRYPPSYKALLTRGRALVLLGIMWVLSALVSYLPLMGWTCCPRPCSELFPLIPNDYLLSWLLFIAFLFSGIIYTYGHVLWKAHQHVASNIFEMLRIDEGLRLKIYKDTEGYYTIGIGHLLTKSPSLNAAKSELDKAIGRNTNGVITKDEAEKLFNQDVDAAVRGILRNAKLKPVYDSLDAVRRAALINMVFQMGETGVAGFTNSLRMLQQKRWDEAAVNLAKSRWYNQTPNRAKRVITTFRTGTWDAYARMRLDVELAKTLGLVLAVLLICWFPVLALMAHSLATTLSDQVKKAFAFCSMLCLINSMVNPVIYALRSEEIRSSAHHCLAHWKK\n"
     ]
    },
    {
     "name": "stdout",
     "output_type": "stream",
     "text": [
      "\n",
      "   A P P M K D Y M I L S G P Q K T A V A V L C T L L G L L S A L E N V A V L Y L I L S S H Q L R R K P S Y L F I G S L A L A D F L A S V V F A C S F V N F H V F H G V D S K A V F L L K I G S V T M T F T A S V G S L L L A A I D R Y L C L R Y P P S Y K A L L T R G R A L V L L G I M W V L S A L V S Y L P L M G W T C C P R P C S E L F P L I P N D Y L L S W L L F I A F L F S G I I Y T Y G H V L W K A H Q H V A S N I F E M L R I D E G L R L K I Y K D T E G Y Y T I G I G H L L T K S P S L N A A K S E L D K A I G R N T N G V I T K D E A E K L F N Q D V D A A V R G I L R N A K L K P V Y D S L D A V R R A A L I N M V F Q M G E T G V A G F T N S L R M L Q Q K R W D E A A V N L A K S R W Y N Q T P N R A K R V I T T F R T G T W D A Y A R M R L D V E L A K T L G L V L A V L L I C W F P V L A L M A H S L A T T L S D Q V K K A F A F C S M L C L I N S M V N P V I Y A L R S E E I R S S A H H C L A H W K K \n"
     ]
    }
   ],
   "source": [
    "text = input(\"please input a fasta sequence\")\n",
    "spaced_text = \"\"\n",
    "for t in text:\n",
    "    spaced_text+= t + \" \"\n",
    "print(\"\\n\",spaced_text)"
   ]
  },
  {
   "cell_type": "code",
   "execution_count": 11,
   "id": "017d8642-ee83-4dc8-b8ed-684fb6dd9004",
   "metadata": {},
   "outputs": [
    {
     "name": "stdout",
     "output_type": "stream",
     "text": [
      "APPMKDYMILSGPQKTAVAVLCTLLGLLSALENVAVLYLILSSHQLRRKPSYLFIGSLALADFLASVVFACSFVNFHVFHGVDSKAVFLLKIGSVTMTFTASVGSLLLAAIDRYLCLRYPPSYKALLTRGRALVLLGIMWVLSALVSYLPLMGWTCCPRPCSELFPLIPNDYLLSWLLFIAFLFSGIIYTYGHVLWKAHQHVASNIFEMLRIDEGLRLKIYKDTEGYYTIGIGHLLTKSPSLNAAKSELDKAIGRNTNGVITKDEAEKLFNQDVDAAVRGILRNAKLKPVYDSLDAVRRAALINMVFQMGETGVAGFTNSLRMLQQKRWDEAAVNLAKSRWYNQTPNRAKRVITTFRTGTWDAYARMRLDVELAKTLGLVLAVLLICWFPVLALMAHSLATTLSDQVKKAFAFCSMLCLINSMVNPVIYALRSEEIRSSAHHCLAHWKK\n"
     ]
    }
   ],
   "source": [
    "#also afterwards one can make selections of a given text to remove unwanted parts such as those added for cristailzation\n",
    "print(text[:])\n",
    "#These are used to imput in AF3 for modeling "
   ]
  },
  {
   "cell_type": "code",
   "execution_count": null,
   "id": "819f860e-53f4-446b-bec7-fbfda08e2841",
   "metadata": {},
   "outputs": [],
   "source": []
  }
 ],
 "metadata": {
  "kernelspec": {
   "display_name": "SageMath 10.5",
   "language": "sage",
   "name": "sagemath-10.5"
  },
  "language_info": {
   "codemirror_mode": {
    "name": "ipython",
    "version": 3
   },
   "file_extension": ".py",
   "mimetype": "text/x-python",
   "name": "python",
   "nbconvert_exporter": "python",
   "pygments_lexer": "ipython3",
   "version": "3.12.5"
  }
 },
 "nbformat": 4,
 "nbformat_minor": 5
}
