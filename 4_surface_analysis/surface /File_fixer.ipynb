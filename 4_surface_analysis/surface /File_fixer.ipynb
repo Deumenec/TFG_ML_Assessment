{
 "cells": [
  {
   "cell_type": "markdown",
   "id": "48e04b93-00f4-4037-ab06-7f296ed1be9b",
   "metadata": {},
   "source": [
    "### Fixes some mistake with .pdb files generated with vmd"
   ]
  },
  {
   "cell_type": "code",
   "execution_count": 26,
   "id": "f354b84a-dba8-4c96-aec3-4c9f70f5a31b",
   "metadata": {},
   "outputs": [
    {
     "name": "stdin",
     "output_type": "stream",
     "text": [
      "Quin fitxer vols arreglar 1bl8_model_proba.pdb\n"
     ]
    },
    {
     "name": "stdout",
     "output_type": "stream",
     "text": [
      "ATOM     10  H051ALA A   1       0.245  26.098  -8.264  1.00  7.27           H  \n",
      "ATOM     10  H05 ALA A   1       0.245  26.098  -8.264  1.00  7.27           H  \n"
     ]
    }
   ],
   "source": [
    "selected_file = input(\"Quin fitxer vols arreglar\")\n",
    "with open(selected_file, \"r\") as file:\n",
    "    lines = file.read().splitlines()\n",
    "\n",
    "print(lines[10])\n",
    "lines[10] = list(lines[10])\n",
    "lines[10][16] = \" \"\n",
    "lines[10] = \"\".join(lines[10])\n",
    "print(lines[10])\n",
    "new_lines = []\n",
    "\n",
    "\n",
    "for line in lines:\n",
    "    if(line.startswith(\"ATOM\")):\n",
    "        line = list(line)\n",
    "        line[16] = \" \" \n",
    "        new_lines.append(\"\".join(line))\n",
    "    else:\n",
    "        new_lines.append(line)\n",
    "        \n",
    "with open(\"new\" + selected_file, \"w\") as file:\n",
    "    file.write(\"\\n\".join(new_lines))\n"
   ]
  }
 ],
 "metadata": {
  "kernelspec": {
   "display_name": "Python (TFG_env)",
   "language": "python",
   "name": "tfg_env"
  },
  "language_info": {
   "codemirror_mode": {
    "name": "ipython",
    "version": 3
   },
   "file_extension": ".py",
   "mimetype": "text/x-python",
   "name": "python",
   "nbconvert_exporter": "python",
   "pygments_lexer": "ipython3",
   "version": "3.13.3"
  }
 },
 "nbformat": 4,
 "nbformat_minor": 5
}
