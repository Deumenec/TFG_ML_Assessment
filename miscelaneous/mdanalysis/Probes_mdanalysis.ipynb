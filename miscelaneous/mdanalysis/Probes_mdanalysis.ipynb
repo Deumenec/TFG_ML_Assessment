{
 "cells": [
  {
   "cell_type": "code",
   "execution_count": 2,
   "id": "4692d8b2-6a0f-489e-84f3-e727c1f812c7",
   "metadata": {},
   "outputs": [
    {
     "name": "stdout",
     "output_type": "stream",
     "text": [
      "Using MDAnalysis version 2.8.0\n"
     ]
    }
   ],
   "source": [
    "# -*- coding: utf-8 -*-\n",
    "\"\"\"\n",
    "Created on Sat Dec 14 18:26:01 2024\n",
    "\n",
    "@author: dhe02\n",
    "\"\"\"\n",
    "\n",
    "import MDAnalysis as mda\n",
    "from MDAnalysis.analysis import align\n",
    "import warnings\n",
    "import numpy as np\n",
    "import matplotlib.pyplot as plt\n",
    "\n",
    "# suppress some MDAnalysis warnings about PSF files\n",
    "warnings.filterwarnings('ignore')\n",
    "\n",
    "from matplotlib import pyplot as plt\n",
    "\n",
    "print(\"Using MDAnalysis version\", mda.__version__)\n",
    "\n",
    "amino_acids = [\n",
    "    \"ALA\", \"ARG\", \"ASN\", \"ASP\", \"CYS\", \"GLN\", \"GLU\", \"GLY\", \"HIS\", \n",
    "    \"ILE\", \"LEU\", \"LYS\", \"MET\", \"PHE\", \"PRO\", \"SER\", \"THR\", \"TRP\", \"TYR\", \"VAL\"\n",
    "]\n",
    "\n",
    "#funcions definides\n",
    "\n",
    "\n",
    "            \n",
    "def max_list(m_list, m_select):\n",
    "    \"\"\"\n",
    "    Given a list of tuples it returns the one that has the max value at a given position\n",
    "    \"\"\"\n",
    "    m_max= m_list[0]\n",
    "    for element in m_list:\n",
    "        if element[m_select]>m_max[m_select]:\n",
    "            m_max = element\n",
    "    return m_max\n",
    "\n",
    "def n_alpha_dist(protein):\n",
    "    \"\"\"\n",
    "    For a given universe proteïn, it returns the distance between the c_alpha atom and its atached carbon for each residue\n",
    "    \"\"\"\n",
    "    if not isinstance(protein, mda.core.universe.Universe):\n",
    "        raise TypeError(f\"Expected input_value to be of type mda.core.universe.Universe, but got {type(protein).__name__}\")\n",
    "    distances = []\n",
    "    for res in protein.residues:\n",
    "        nitrogen = res.atoms.select_atoms(\"name N\")\n",
    "        carbon_a = res.atoms.select_atoms(\"name CA\")\n",
    "        if len(nitrogen) == 1 and len(carbon_a) == 1:\n",
    "            distance = np.linalg.norm(nitrogen.positions[0] - carbon_a.positions[0])\n",
    "            distances.append((res.resid, res.resname, distance))\n",
    "        else:\n",
    "            print(f\"Skipping residue {res.resid} ({res.resname}) due to lacking infotmation\")\n",
    "    return distances\n"
   ]
  },
  {
   "cell_type": "code",
   "execution_count": 3,
   "id": "12284bbe-b3fa-404c-8c7b-8f6eb2ac154e",
   "metadata": {},
   "outputs": [],
   "source": [
    "structure = mda.Universe(\"AF-B6D1N4-F1-model_v4.pdb\")\n",
    "\"\"\"bonds = structure.atoms.guess_bonds()\n",
    "print(bonds)\"\"\"\n",
    "names = structure.residues.resnames"
   ]
  },
  {
   "cell_type": "code",
   "execution_count": 4,
   "id": "3e189f19-8d23-47e2-a2e0-cf71d911e9b4",
   "metadata": {},
   "outputs": [],
   "source": [
    "distancies = n_alpha_dist(structure)"
   ]
  },
  {
   "cell_type": "markdown",
   "id": "8a1e0591-29a6-4661-ac91-e41b0c2275ac",
   "metadata": {},
   "source": [
    "Cal recordar que als fitxers pdb les dades es proporcionen amb una precisió de $10^{-3}$ Angstorms i per tant l'error atribuible a la distància està acotat per 0.003464 i es pot demostrar que té una esperança de ... (Exercissi per tu de probabilitat!)"
   ]
  },
  {
   "cell_type": "code",
   "execution_count": 5,
   "id": "41ef8dbf-49bf-439f-97dc-f8f0e043be29",
   "metadata": {},
   "outputs": [
    {
     "data": {
      "text/plain": [
       "(np.int64(10), 'ILE', np.float32(1.4795922))"
      ]
     },
     "execution_count": 5,
     "metadata": {},
     "output_type": "execute_result"
    }
   ],
   "source": [
    "max_list(distancies, 2)"
   ]
  },
  {
   "cell_type": "code",
   "execution_count": 9,
   "id": "92dfce5b-8a14-4297-8c84-d067d952cb9f",
   "metadata": {},
   "outputs": [
    {
     "name": "stdout",
     "output_type": "stream",
     "text": [
      "(np.int64(1), 'MET', np.float32(1.4755622)) (np.int64(2), 'LYS', np.float32(1.455348)) (np.int64(3), 'ALA', np.float32(1.4507871)) (np.int64(4), 'ILE', np.float32(1.4607074)) (np.int64(5), 'VAL', np.float32(1.4656411)) (np.int64(6), 'ILE', np.float32(1.4642801)) (np.int64(7), 'GLY', np.float32(1.4564781)) (np.int64(8), 'ALA', np.float32(1.4629433)) (np.int64(9), 'GLY', np.float32(1.4677262)) (np.int64(10), 'ILE', np.float32(1.4795922)) (np.int64(11), 'GLY', np.float32(1.4629306)) (np.int64(12), 'GLY', np.float32(1.4619999)) (np.int64(13), 'LEU', np.float32(1.4673281)) (np.int64(14), 'SER', np.float32(1.4660221)) (np.int64(15), 'ALA', np.float32(1.4623414)) (np.int64(16), 'ALA', np.float32(1.4606158)) (np.int64(17), 'VAL', np.float32(1.4703162)) (np.int64(18), 'ALA', np.float32(1.4609256)) (np.int64(19), 'LEU', np.float32(1.4618794)) (np.int64(20), 'LYS', np.float32(1.4703723)) (np.int64(21), 'GLN', np.float32(1.4722726)) (np.int64(22), 'SER', np.float32(1.4669541)) (np.int64(23), 'GLY', np.float32(1.4651324)) (np.int64(24), 'ILE', np.float32(1.4681648)) (np.int64(25), 'ASP', np.float32(1.4624023)) (np.int64(26), 'CYS', np.float32(1.4631371)) (np.int64(27), 'ASP', np.float32(1.4646428)) (np.int64(28), 'VAL', np.float32(1.4703006)) (np.int64(29), 'TYR', np.float32(1.4635377)) (np.int64(30), 'GLU', np.float32(1.4658096)) (np.int64(31), 'ALA', np.float32(1.454562)) (np.int64(32), 'VAL', np.float32(1.4694332)) (np.int64(33), 'LYS', np.float32(1.4760966)) (np.int64(34), 'GLU', np.float32(1.4530998)) (np.int64(35), 'ILE', np.float32(1.4584526)) (np.int64(36), 'LYS', np.float32(1.461344)) (np.int64(37), 'PRO', np.float32(1.4540018)) (np.int64(38), 'VAL', np.float32(1.4695721)) (np.int64(39), 'GLY', np.float32(1.4641465)) (np.int64(40), 'ALA', np.float32(1.4621426)) (np.int64(41), 'ALA', np.float32(1.4606566)) (np.int64(42), 'ILE', np.float32(1.4666251)) (np.int64(43), 'SER', np.float32(1.4656489)) (np.int64(44), 'VAL', np.float32(1.4665797)) (np.int64(45), 'TRP', np.float32(1.4625506)) (np.int64(46), 'PRO', np.float32(1.4647475)) (np.int64(47), 'ASN', np.float32(1.4668733)) (np.int64(48), 'GLY', np.float32(1.4624667)) (np.int64(49), 'VAL', np.float32(1.4784819)) (np.int64(50), 'LYS', np.float32(1.4733988)) (np.int64(51), 'CYS', np.float32(1.4621521)) (np.int64(52), 'MET', np.float32(1.4676272)) (np.int64(53), 'ALA', np.float32(1.4622679)) (np.int64(54), 'HIS', np.float32(1.4672712)) (np.int64(55), 'LEU', np.float32(1.4646194)) (np.int64(56), 'GLY', np.float32(1.4667362)) (np.int64(57), 'MET', np.float32(1.4670613)) (np.int64(58), 'GLY', np.float32(1.4680941)) (np.int64(59), 'ASP', np.float32(1.4702474)) (np.int64(60), 'ILE', np.float32(1.4719816)) (np.int64(61), 'MET', np.float32(1.4651052)) (np.int64(62), 'GLU', np.float32(1.4578239)) (np.int64(63), 'THR', np.float32(1.4704099)) (np.int64(64), 'PHE', np.float32(1.4686434)) (np.int64(65), 'GLY', np.float32(1.459586)) (np.int64(66), 'GLY', np.float32(1.4595934)) (np.int64(67), 'PRO', np.float32(1.464931)) (np.int64(68), 'LEU', np.float32(1.4638096)) (np.int64(69), 'ARG', np.float32(1.4793409)) (np.int64(70), 'ARG', np.float32(1.4706204)) (np.int64(71), 'MET', np.float32(1.4594516)) (np.int64(72), 'ALA', np.float32(1.4550374)) (np.int64(73), 'TYR', np.float32(1.457133)) (np.int64(74), 'ARG', np.float32(1.4656221)) (np.int64(75), 'ASP', np.float32(1.4591872)) (np.int64(76), 'PHE', np.float32(1.4613167)) (np.int64(77), 'ARG', np.float32(1.46501)) (np.int64(78), 'SER', np.float32(1.4700719)) (np.int64(79), 'GLY', np.float32(1.4620537)) (np.int64(80), 'GLU', np.float32(1.4628142)) (np.int64(81), 'ASN', np.float32(1.4597006)) (np.int64(82), 'MET', np.float32(1.466504)) (np.int64(83), 'THR', np.float32(1.4675851)) (np.int64(84), 'GLN', np.float32(1.4610307)) (np.int64(85), 'PHE', np.float32(1.4661655)) (np.int64(86), 'SER', np.float32(1.4665238)) (np.int64(87), 'LEU', np.float32(1.4643162)) (np.int64(88), 'ALA', np.float32(1.4661456)) (np.int64(89), 'PRO', np.float32(1.4673493)) (np.int64(90), 'LEU', np.float32(1.4624766)) (np.int64(91), 'ILE', np.float32(1.4725697)) (np.int64(92), 'GLU', np.float32(1.4675304)) (np.int64(93), 'ARG', np.float32(1.4714351)) (np.int64(94), 'THR', np.float32(1.4709933)) (np.int64(95), 'GLY', np.float32(1.4675049)) (np.int64(96), 'SER', np.float32(1.4694977)) (np.int64(97), 'ARG', np.float32(1.467726)) (np.int64(98), 'PRO', np.float32(1.4555641)) (np.int64(99), 'CYS', np.float32(1.4597604)) (np.int64(100), 'PRO', np.float32(1.4540862)) (np.int64(101), 'VAL', np.float32(1.4692359)) (np.int64(102), 'SER', np.float32(1.4588687)) (np.int64(103), 'ARG', np.float32(1.4711778)) (np.int64(104), 'ALA', np.float32(1.456491)) (np.int64(105), 'GLU', np.float32(1.4654795)) (np.int64(106), 'LEU', np.float32(1.464037)) (np.int64(107), 'GLN', np.float32(1.456285)) (np.int64(108), 'ARG', np.float32(1.4687165)) (np.int64(109), 'GLU', np.float32(1.4650642)) (np.int64(110), 'MET', np.float32(1.4700791)) (np.int64(111), 'LEU', np.float32(1.4576627)) (np.int64(112), 'ASP', np.float32(1.470362)) (np.int64(113), 'TYR', np.float32(1.4579992)) (np.int64(114), 'TRP', np.float32(1.4651667)) (np.int64(115), 'GLY', np.float32(1.4581417)) (np.int64(116), 'ARG', np.float32(1.477542)) (np.int64(117), 'ASP', np.float32(1.4675156)) (np.int64(118), 'SER', np.float32(1.4666861)) (np.int64(119), 'VAL', np.float32(1.4686036)) (np.int64(120), 'GLN', np.float32(1.4576565)) (np.int64(121), 'PHE', np.float32(1.4650221)) (np.int64(122), 'GLY', np.float32(1.4668473)) (np.int64(123), 'LYS', np.float32(1.4662313)) (np.int64(124), 'ARG', np.float32(1.4737022)) (np.int64(125), 'VAL', np.float32(1.4677349)) (np.int64(126), 'THR', np.float32(1.4735322)) (np.int64(127), 'ARG', np.float32(1.4646176)) (np.int64(128), 'CYS', np.float32(1.4577303)) (np.int64(129), 'GLU', np.float32(1.4623067)) (np.int64(130), 'GLU', np.float32(1.4596516)) (np.int64(131), 'ASP', np.float32(1.4582875)) (np.int64(132), 'ALA', np.float32(1.459221)) (np.int64(133), 'ASP', np.float32(1.4593362)) (np.int64(134), 'GLY', np.float32(1.4572608)) (np.int64(135), 'VAL', np.float32(1.4620743)) (np.int64(136), 'THR', np.float32(1.4681109)) (np.int64(137), 'VAL', np.float32(1.4701625)) (np.int64(138), 'TRP', np.float32(1.4700413)) (np.int64(139), 'PHE', np.float32(1.458005)) (np.int64(140), 'THR', np.float32(1.4758086)) (np.int64(141), 'ASP', np.float32(1.4688473)) (np.int64(142), 'GLY', np.float32(1.4645755)) (np.int64(143), 'SER', np.float32(1.4656394)) (np.int64(144), 'SER', np.float32(1.4619771)) (np.int64(145), 'ALA', np.float32(1.4585376)) (np.int64(146), 'SER', np.float32(1.4681429)) (np.int64(147), 'GLY', np.float32(1.4593109)) (np.int64(148), 'ASP', np.float32(1.4628676)) (np.int64(149), 'LEU', np.float32(1.468636)) (np.int64(150), 'LEU', np.float32(1.4653795)) (np.int64(151), 'ILE', np.float32(1.4627148)) (np.int64(152), 'ALA', np.float32(1.452866)) (np.int64(153), 'ALA', np.float32(1.464152)) (np.int64(154), 'ASP', np.float32(1.4684236)) (np.int64(155), 'GLY', np.float32(1.4611219)) (np.int64(156), 'SER', np.float32(1.473417)) (np.int64(157), 'HIS', np.float32(1.464996)) (np.int64(158), 'SER', np.float32(1.4662179)) (np.int64(159), 'ALA', np.float32(1.4588675)) (np.int64(160), 'LEU', np.float32(1.4661682)) (np.int64(161), 'ARG', np.float32(1.4688215)) (np.int64(162), 'PRO', np.float32(1.4595356)) (np.int64(163), 'TRP', np.float32(1.4620552)) (np.int64(164), 'VAL', np.float32(1.4739743)) (np.int64(165), 'LEU', np.float32(1.4656487)) (np.int64(166), 'GLY', np.float32(1.4685253)) (np.int64(167), 'PHE', np.float32(1.4653658)) (np.int64(168), 'THR', np.float32(1.4774767)) (np.int64(169), 'PRO', np.float32(1.4587505)) (np.int64(170), 'GLN', np.float32(1.4604226)) (np.int64(171), 'ARG', np.float32(1.4660894)) (np.int64(172), 'ARG', np.float32(1.4622477)) (np.int64(173), 'TYR', np.float32(1.4626569)) (np.int64(174), 'ALA', np.float32(1.4579179)) (np.int64(175), 'GLY', np.float32(1.4671506)) (np.int64(176), 'TYR', np.float32(1.4599113)) (np.int64(177), 'VAL', np.float32(1.4626523)) (np.int64(178), 'ASN', np.float32(1.4503554)) (np.int64(179), 'TRP', np.float32(1.4608107)) (np.int64(180), 'ASN', np.float32(1.4596446)) (np.int64(181), 'GLY', np.float32(1.4569354)) (np.int64(182), 'LEU', np.float32(1.4568056)) (np.int64(183), 'VAL', np.float32(1.4734726)) (np.int64(184), 'GLU', np.float32(1.4658202)) (np.int64(185), 'ILE', np.float32(1.4627556)) (np.int64(186), 'ASP', np.float32(1.4562861)) (np.int64(187), 'GLU', np.float32(1.4671708)) (np.int64(188), 'ALA', np.float32(1.4549669)) (np.int64(189), 'LEU', np.float32(1.4629681)) (np.int64(190), 'ALA', np.float32(1.4616433)) (np.int64(191), 'PRO', np.float32(1.464743)) (np.int64(192), 'GLY', np.float32(1.4672495)) (np.int64(193), 'ASP', np.float32(1.4690543)) (np.int64(194), 'GLN', np.float32(1.4602376)) (np.int64(195), 'TRP', np.float32(1.4599416)) (np.int64(196), 'THR', np.float32(1.470019)) (np.int64(197), 'THR', np.float32(1.4683664)) (np.int64(198), 'PHE', np.float32(1.4627446)) (np.int64(199), 'VAL', np.float32(1.4723225)) (np.int64(200), 'GLY', np.float32(1.4600428)) (np.int64(201), 'GLU', np.float32(1.4761891)) (np.int64(202), 'GLY', np.float32(1.4700109)) (np.int64(203), 'LYS', np.float32(1.466199)) (np.int64(204), 'ARG', np.float32(1.4644326)) (np.int64(205), 'VAL', np.float32(1.4692125)) (np.int64(206), 'SER', np.float32(1.4590946)) (np.int64(207), 'LEU', np.float32(1.4608675)) (np.int64(208), 'MET', np.float32(1.4644332)) (np.int64(209), 'PRO', np.float32(1.4561566)) (np.int64(210), 'VAL', np.float32(1.4742737)) (np.int64(211), 'SER', np.float32(1.4701222)) (np.int64(212), 'ALA', np.float32(1.4669775)) (np.int64(213), 'GLY', np.float32(1.468021)) (np.int64(214), 'ARG', np.float32(1.4728773)) (np.int64(215), 'PHE', np.float32(1.4547143)) (np.int64(216), 'TYR', np.float32(1.4519993)) (np.int64(217), 'PHE', np.float32(1.4530771)) (np.int64(218), 'PHE', np.float32(1.4519243)) (np.int64(219), 'PHE', np.float32(1.4578999)) (np.int64(220), 'ASP', np.float32(1.4610109)) (np.int64(221), 'VAL', np.float32(1.4698908)) (np.int64(222), 'PRO', np.float32(1.4583588)) (np.int64(223), 'LEU', np.float32(1.4652632)) (np.int64(224), 'PRO', np.float32(1.4560696)) (np.int64(225), 'ALA', np.float32(1.4614801)) (np.int64(226), 'GLY', np.float32(1.4648777)) (np.int64(227), 'LEU', np.float32(1.4655955)) (np.int64(228), 'ALA', np.float32(1.4623679)) (np.int64(229), 'GLU', np.float32(1.4598647)) (np.int64(230), 'ASP', np.float32(1.4566761)) (np.int64(231), 'ARG', np.float32(1.4675385)) (np.int64(232), 'ASP', np.float32(1.4623693)) (np.int64(233), 'THR', np.float32(1.4749268)) (np.int64(234), 'LEU', np.float32(1.4686067)) (np.int64(235), 'ARG', np.float32(1.4695736)) (np.int64(236), 'ALA', np.float32(1.4599769)) (np.int64(237), 'ASP', np.float32(1.4622813)) (np.int64(238), 'LEU', np.float32(1.4662145)) (np.int64(239), 'SER', np.float32(1.4704193)) (np.int64(240), 'ARG', np.float32(1.4712398)) (np.int64(241), 'TYR', np.float32(1.4668808)) (np.int64(242), 'PHE', np.float32(1.4617586)) (np.int64(243), 'ALA', np.float32(1.4579096)) (np.int64(244), 'GLY', np.float32(1.4694898)) (np.int64(245), 'TRP', np.float32(1.4628962)) (np.int64(246), 'ALA', np.float32(1.4571352)) (np.int64(247), 'PRO', np.float32(1.465586)) (np.int64(248), 'PRO', np.float32(1.4665172)) (np.int64(249), 'VAL', np.float32(1.4703127)) (np.int64(250), 'GLN', np.float32(1.4672074)) (np.int64(251), 'LYS', np.float32(1.4701666)) (np.int64(252), 'LEU', np.float32(1.4663074)) (np.int64(253), 'ILE', np.float32(1.4773428)) (np.int64(254), 'ALA', np.float32(1.4585346)) (np.int64(255), 'ALA', np.float32(1.4632069)) (np.int64(256), 'LEU', np.float32(1.4642018)) (np.int64(257), 'ASP', np.float32(1.4601401)) (np.int64(258), 'PRO', np.float32(1.458996)) (np.int64(259), 'GLN', np.float32(1.4681165)) (np.int64(260), 'THR', np.float32(1.47119)) (np.int64(261), 'THR', np.float32(1.4655377)) (np.int64(262), 'ASN', np.float32(1.4592397)) (np.int64(263), 'ARG', np.float32(1.469746)) (np.int64(264), 'ILE', np.float32(1.4641153)) (np.int64(265), 'GLU', np.float32(1.4598275)) (np.int64(266), 'ILE', np.float32(1.4595796)) (np.int64(267), 'HIS', np.float32(1.4535077)) (np.int64(268), 'ASP', np.float32(1.4648782)) (np.int64(269), 'ILE', np.float32(1.4660275)) (np.int64(270), 'GLU', np.float32(1.4637272)) (np.int64(271), 'PRO', np.float32(1.456089)) (np.int64(272), 'PHE', np.float32(1.4571135)) (np.int64(273), 'SER', np.float32(1.4685105)) (np.int64(274), 'ARG', np.float32(1.4594822)) (np.int64(275), 'LEU', np.float32(1.4572529)) (np.int64(276), 'VAL', np.float32(1.4712892)) (np.int64(277), 'ARG', np.float32(1.4666485)) (np.int64(278), 'GLY', np.float32(1.4639722)) (np.int64(279), 'ARG', np.float32(1.4743427)) (np.int64(280), 'VAL', np.float32(1.4688767)) (np.int64(281), 'ALA', np.float32(1.4631428)) (np.int64(282), 'LEU', np.float32(1.4642367)) (np.int64(283), 'LEU', np.float32(1.4654408)) (np.int64(284), 'GLY', np.float32(1.4679353)) (np.int64(285), 'ASP', np.float32(1.477247)) (np.int64(286), 'ALA', np.float32(1.4599357)) (np.int64(287), 'GLY', np.float32(1.4661918)) (np.int64(288), 'HIS', np.float32(1.4687755)) (np.int64(289), 'SER', np.float32(1.467212)) (np.int64(290), 'THR', np.float32(1.4711237)) (np.int64(291), 'THR', np.float32(1.4672034)) (np.int64(292), 'PRO', np.float32(1.4631284)) (np.int64(293), 'ASP', np.float32(1.4704899)) (np.int64(294), 'ILE', np.float32(1.4717286)) (np.int64(295), 'GLY', np.float32(1.4650385)) (np.int64(296), 'GLN', np.float32(1.4726931)) (np.int64(297), 'GLY', np.float32(1.478186)) (np.int64(298), 'GLY', np.float32(1.468249)) (np.int64(299), 'CYS', np.float32(1.4628415)) (np.int64(300), 'ALA', np.float32(1.4575523)) (np.int64(301), 'ALA', np.float32(1.4638184)) (np.int64(302), 'MET', np.float32(1.4713385)) (np.int64(303), 'GLU', np.float32(1.4674774)) (np.int64(304), 'ASP', np.float32(1.4628662)) (np.int64(305), 'ALA', np.float32(1.4534904)) (np.int64(306), 'VAL', np.float32(1.4722363)) (np.int64(307), 'VAL', np.float32(1.4723079)) (np.int64(308), 'LEU', np.float32(1.4629437)) (np.int64(309), 'GLY', np.float32(1.4623706)) (np.int64(310), 'ALA', np.float32(1.4619062)) (np.int64(311), 'VAL', np.float32(1.4745747)) (np.int64(312), 'PHE', np.float32(1.4668722)) (np.int64(313), 'ARG', np.float32(1.4729905)) (np.int64(314), 'GLN', np.float32(1.4735838)) (np.int64(315), 'THR', np.float32(1.464495)) (np.int64(316), 'ARG', np.float32(1.4667702)) (np.int64(317), 'ASP', np.float32(1.4598159)) (np.int64(318), 'ILE', np.float32(1.4654313)) (np.int64(319), 'ALA', np.float32(1.4572858)) (np.int64(320), 'ALA', np.float32(1.4605461)) (np.int64(321), 'ALA', np.float32(1.4624404)) (np.int64(322), 'LEU', np.float32(1.4602332)) (np.int64(323), 'CYS', np.float32(1.4645619)) (np.int64(324), 'GLU', np.float32(1.4698721)) (np.int64(325), 'TYR', np.float32(1.4655561)) (np.int64(326), 'GLU', np.float32(1.4635856)) (np.int64(327), 'ALA', np.float32(1.4587525)) (np.int64(328), 'GLN', np.float32(1.4657112)) (np.int64(329), 'ARG', np.float32(1.473101)) (np.int64(330), 'CYS', np.float32(1.4639095)) (np.int64(331), 'ASP', np.float32(1.4685818)) (np.int64(332), 'ARG', np.float32(1.46678)) (np.int64(333), 'VAL', np.float32(1.4696143)) (np.int64(334), 'ARG', np.float32(1.4685951)) (np.int64(335), 'ASP', np.float32(1.472014)) (np.int64(336), 'LEU', np.float32(1.4641402)) (np.int64(337), 'VAL', np.float32(1.4755465)) (np.int64(338), 'LEU', np.float32(1.465185)) (np.int64(339), 'LYS', np.float32(1.4670599)) (np.int64(340), 'ALA', np.float32(1.4609945)) (np.int64(341), 'ARG', np.float32(1.4686133)) (np.int64(342), 'LYS', np.float32(1.4710553)) (np.int64(343), 'ARG', np.float32(1.4697292)) (np.int64(344), 'CYS', np.float32(1.4649159)) (np.int64(345), 'ASP', np.float32(1.4657519)) (np.int64(346), 'ILE', np.float32(1.4757268)) (np.int64(347), 'THR', np.float32(1.4678738)) (np.int64(348), 'HIS', np.float32(1.463735)) (np.int64(349), 'GLY', np.float32(1.4624757)) (np.int64(350), 'LYS', np.float32(1.4766146)) (np.int64(351), 'ASP', np.float32(1.457805)) (np.int64(352), 'MET', np.float32(1.4603223)) (np.int64(353), 'GLN', np.float32(1.4681609)) (np.int64(354), 'LEU', np.float32(1.466062)) (np.int64(355), 'THR', np.float32(1.4680551)) (np.int64(356), 'GLU', np.float32(1.4682957)) (np.int64(357), 'ALA', np.float32(1.4618646)) (np.int64(358), 'TRP', np.float32(1.4651446)) (np.int64(359), 'TYR', np.float32(1.4654233)) (np.int64(360), 'GLN', np.float32(1.4562707)) (np.int64(361), 'GLU', np.float32(1.4721665)) (np.int64(362), 'LEU', np.float32(1.4675391)) (np.int64(363), 'ARG', np.float32(1.4790032)) (np.int64(364), 'GLU', np.float32(1.4681853)) (np.int64(365), 'GLU', np.float32(1.4599487)) (np.int64(366), 'THR', np.float32(1.4743861)) (np.int64(367), 'GLY', np.float32(1.458657)) (np.int64(368), 'GLU', np.float32(1.4647716)) (np.int64(369), 'ARG', np.float32(1.4705255)) (np.int64(370), 'ILE', np.float32(1.4711591)) (np.int64(371), 'ILE', np.float32(1.4693882)) (np.int64(372), 'ASN', np.float32(1.4653534)) (np.int64(373), 'GLY', np.float32(1.4672837)) (np.int64(374), 'MET', np.float32(1.4660376)) (np.int64(375), 'CYS', np.float32(1.4602233)) (np.int64(376), 'ASP', np.float32(1.4711773)) (np.int64(377), 'THR', np.float32(1.4682939)) (np.int64(378), 'ILE', np.float32(1.4670136)) (np.int64(379), 'LEU', np.float32(1.4655696)) (np.int64(380), 'SER', np.float32(1.470451)) (np.int64(381), 'GLY', np.float32(1.4592862)) (np.int64(382), 'PRO', np.float32(1.4662873)) (np.int64(383), 'LEU', np.float32(1.4671856)) (np.int64(384), 'GLY', np.float32(1.4677823))\n"
     ]
    }
   ],
   "source": [
    "print(*distancies)"
   ]
  },
  {
   "cell_type": "code",
   "execution_count": 163,
   "id": "0676ccf3-c3d6-4f1a-b8c2-0d7dff0ebb7d",
   "metadata": {},
   "outputs": [
    {
     "data": {
      "text/plain": [
       "(8, 'LYS', 1.4971462, 1)"
      ]
     },
     "execution_count": 163,
     "metadata": {},
     "output_type": "execute_result"
    }
   ],
   "source": []
  }
 ],
 "metadata": {
  "kernelspec": {
   "display_name": "Python 3 (ipykernel)",
   "language": "python",
   "name": "python3"
  },
  "language_info": {
   "codemirror_mode": {
    "name": "ipython",
    "version": 3
   },
   "file_extension": ".py",
   "mimetype": "text/x-python",
   "name": "python",
   "nbconvert_exporter": "python",
   "pygments_lexer": "ipython3",
   "version": "3.13.1"
  }
 },
 "nbformat": 4,
 "nbformat_minor": 5
}
