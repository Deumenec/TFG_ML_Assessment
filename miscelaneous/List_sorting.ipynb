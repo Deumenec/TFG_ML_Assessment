{
 "cells": [
  {
   "cell_type": "code",
   "execution_count": 21,
   "id": "88de99f2-7610-44b6-ac67-29e5a8e9d28a",
   "metadata": {},
   "outputs": [
    {
     "data": {
      "text/plain": [
       "'1c0p, 1iki, 1m40, 1mpl, 1n9b, 1scw, 1ylp, 1yly, 1ym1, 1yt4, 2eab, 2hds, 2rta, 2rtj, 2zq7, 3bmx, 3d1k, 3dt4, 3e2d, 3g2y, 3lez, 3ro8, 3uqy, 3v39, 3w4o, 3wwx, 4cnn, 4ddy, 4dwr, 4eqi, 4fb2, 4hdr, 4i3g, 4irl, 4jvo, 4lgy, 4tvv, 4uql, 4xxr, 4ykj, 4zar, 5cec, 5hw5, 5lun, 5n7x, 5njf, 5npz, 5ok6, 5orf, 5qqr, 5u00, 5vfb, 5wa9, 5xyq, 5y0l, 6c7e, 6c9x, 6dvm, 6e4d, 6g8k, 6gjf, 6joz, 6m9y, 6mu9, 6nj1, 6ofq, 6ooe, 6r2j, 6s07, 6sba, 6t7l, 6tep, 6unb, 6v2p, 6x9a, 6xtm, 6y26, 7agc, 7ajp, 7au1, 7c7d, 7ddm, 7eam, 7f82, 7ffx, 7k2w, 7l1a, 7pcx, 7pul, 7rxv, 7rxx, 7s4o, 7vn0, 7w3e, 8cm6, 8fum, 8sov, 8ynv, 8zkw, 9mxv'"
      ]
     },
     "execution_count": 21,
     "metadata": {},
     "output_type": "execute_result"
    }
   ],
   "source": [
    "prote_list = \"6mu9, 4cnn, 5vfb, 4lgy, 5cec, 3lez, 8cm6, 6t7l, 3d1k, 7s4o, 4hdr, 6g8k, 5orf, 6ooe, 6c9x, 5ok6, 4zar, 4xxr, 6c7e, 3ro8, 3uqy, 7f82, 4tvv, 4ddy, 4i3g, 6sba, 7pcx, 7ffx, 2hds, 3w4o, 4eqi, 3e2d, 6gjf, 5u00, 5npz, 2rtj, 8zkw, 8sov, 3bmx, 7rxv, 6unb, 1yly, 2eab, 5njf, 9mxv, 3wwx, 7l1a, 1mpl, 7eam, 6v2p, 4irl, 3v39, 5y0l, 6tep, 6dvm, 6ofq, 6joz, 2rta, 7ddm, 7vn0, 7rxx, 5qqr, 1ym1, 1c0p, 7w3e, 3g2y, 5xyq, 8fum, 3dt4, 1ylp, 4fb2, 1iki, 7au1, 7pul, 1scw, 1yt4, 6r2j, 1n9b, 4jvo, 7c7d, 8ynv, 4dwr, 4ykj, 6xtm, 6nj1, 5wa9, 6m9y, 6x9a, 7k2w, 2zq7, 7ajp, 6y26, 1m40, 4uql, 6s07, 7agc, 5lun, 6e4d, 5n7x, 5hw5\"\n",
    "prote_list= prote_list.split(\", \")\n",
    "sorted_list = sorted(prote_list, key=lambda protein: [ord(c) for c in protein])\n",
    "\", \".join(sorted_list)"
   ]
  }
 ],
 "metadata": {
  "kernelspec": {
   "display_name": "Python (TFG_env)",
   "language": "python",
   "name": "tfg_env"
  },
  "language_info": {
   "codemirror_mode": {
    "name": "ipython",
    "version": 3
   },
   "file_extension": ".py",
   "mimetype": "text/x-python",
   "name": "python",
   "nbconvert_exporter": "python",
   "pygments_lexer": "ipython3",
   "version": "3.13.3"
  }
 },
 "nbformat": 4,
 "nbformat_minor": 5
}
