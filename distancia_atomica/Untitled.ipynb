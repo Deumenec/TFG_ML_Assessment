{
 "cells": [
  {
   "cell_type": "markdown",
   "id": "4d1b3456-aa0c-4948-9fd9-959223198e40",
   "metadata": {},
   "source": [
    "En aquest notebook, es calculen les distàncies entre elements de diferents residus. Amb aquest objectiu, cal alinear els residuus per determinar "
   ]
  },
  {
   "cell_type": "code",
   "execution_count": null,
   "id": "f958a000-dd47-4380-aaf3-ff7ce620bb4f",
   "metadata": {},
   "outputs": [],
   "source": []
  }
 ],
 "metadata": {
  "kernelspec": {
   "display_name": "Python 3 (ipykernel)",
   "language": "python",
   "name": "python3"
  },
  "language_info": {
   "codemirror_mode": {
    "name": "ipython",
    "version": 3
   },
   "file_extension": ".py",
   "mimetype": "text/x-python",
   "name": "python",
   "nbconvert_exporter": "python",
   "pygments_lexer": "ipython3",
   "version": "3.12.5"
  }
 },
 "nbformat": 4,
 "nbformat_minor": 5
}
