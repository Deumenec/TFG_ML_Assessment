{
 "cells": [
  {
   "cell_type": "code",
   "execution_count": 1,
   "id": "2f5d4de5-583f-402e-86b7-e7e61085d865",
   "metadata": {
    "scrolled": true
   },
   "outputs": [
    {
     "name": "stderr",
     "output_type": "stream",
     "text": [
      "/Users/deumenec/myenv/TFGenv/lib/python3.13/site-packages/Bio/Application/__init__.py:39: BiopythonDeprecationWarning: The Bio.Application modules and modules relying on it have been deprecated.\n",
      "\n",
      "Due to the on going maintenance burden of keeping command line application\n",
      "wrappers up to date, we have decided to deprecate and eventually remove these\n",
      "modules.\n",
      "\n",
      "We instead now recommend building your command line and invoking it directly\n",
      "with the subprocess module.\n",
      "  warnings.warn(\n"
     ]
    },
    {
     "name": "stdout",
     "output_type": "stream",
     "text": [
      "Using MDAnalysis version 2.8.0\n"
     ]
    },
    {
     "name": "stdin",
     "output_type": "stream",
     "text": [
      "quin fitxer de molecules vols analitzar?  x\n"
     ]
    },
    {
     "ename": "ValueError",
     "evalue": "'' isn't a valid topology format, nor a coordinate format\n   from which a topology can be minimally inferred.\n   You can use 'Universe(topology, ..., topology_format=FORMAT)'\n   to explicitly specify the format and\n   override automatic detection. Known FORMATs are:\n   dict_keys(['PSF', 'TOP', 'PRMTOP', 'PARM7', 'PDB', 'ENT', 'XPDB', 'PQR', 'GRO', 'CRD', 'PDBQT', 'DMS', 'TPR', 'MOL2', 'DATA', 'LAMMPSDUMP', 'XYZ', 'TXYZ', 'ARC', 'GMS', 'CONFIG', 'HISTORY', 'XML', 'MMTF', 'GSD', 'MINIMAL', 'ITP', 'IN', 'FHIAIMS', 'PARMED', 'RDKIT', 'OPENMMTOPOLOGY', 'OPENMMAPP'])\n   See https://docs.mdanalysis.org/documentation_pages/topology/init.html#supported-topology-formats\n   For missing formats, raise an issue at \n   https://github.com/MDAnalysis/mdanalysis/issues",
     "output_type": "error",
     "traceback": [
      "\u001b[0;31m---------------------------------------------------------------------------\u001b[0m",
      "\u001b[0;31mValueError\u001b[0m                                Traceback (most recent call last)",
      "Cell \u001b[0;32mIn[1], line 77\u001b[0m\n\u001b[1;32m     74\u001b[0m     os\u001b[38;5;241m.\u001b[39mremove(results_folder \u001b[38;5;241m+\u001b[39m \u001b[38;5;124m\"\u001b[39m\u001b[38;5;124m/\u001b[39m\u001b[38;5;124m\"\u001b[39m \u001b[38;5;241m+\u001b[39m molecule_name\u001b[38;5;241m+\u001b[39m \u001b[38;5;124m\"\u001b[39m\u001b[38;5;124m/\u001b[39m\u001b[38;5;124m\"\u001b[39m \u001b[38;5;241m+\u001b[39mav_residu \u001b[38;5;241m+\u001b[39m\u001b[38;5;124m'\u001b[39m\u001b[38;5;124m.pdb\u001b[39m\u001b[38;5;124m'\u001b[39m)\n\u001b[1;32m     76\u001b[0m \u001b[38;5;66;03m#Main\u001b[39;00m\n\u001b[0;32m---> 77\u001b[0m u \u001b[38;5;241m=\u001b[39m \u001b[43mmda\u001b[49m\u001b[38;5;241;43m.\u001b[39;49m\u001b[43mUniverse\u001b[49m\u001b[43m(\u001b[49m\u001b[43mdata_folder\u001b[49m\u001b[38;5;241;43m+\u001b[39;49m\u001b[38;5;124;43m\"\u001b[39;49m\u001b[38;5;124;43m/\u001b[39;49m\u001b[38;5;124;43m\"\u001b[39;49m\u001b[38;5;241;43m+\u001b[39;49m\u001b[43mmolecule_file\u001b[49m\u001b[43m)\u001b[49m\n\u001b[1;32m     78\u001b[0m \u001b[38;5;66;03m#Es determinen les estructures mitjanes\u001b[39;00m\n\u001b[1;32m     79\u001b[0m save_histograms\u001b[38;5;241m=\u001b[39m \u001b[38;5;28;01mTrue\u001b[39;00m\n",
      "File \u001b[0;32m~/myenv/TFGenv/lib/python3.13/site-packages/MDAnalysis/core/universe.py:417\u001b[0m, in \u001b[0;36mUniverse.__init__\u001b[0;34m(self, topology, all_coordinates, format, topology_format, transformations, guess_bonds, vdwradii, fudge_factor, lower_bound, in_memory, context, to_guess, force_guess, in_memory_step, *coordinates, **kwargs)\u001b[0m\n\u001b[1;32m    415\u001b[0m \u001b[38;5;28;01mif\u001b[39;00m \u001b[38;5;129;01mnot\u001b[39;00m \u001b[38;5;28misinstance\u001b[39m(topology, Topology) \u001b[38;5;129;01mand\u001b[39;00m \u001b[38;5;129;01mnot\u001b[39;00m topology \u001b[38;5;129;01mis\u001b[39;00m \u001b[38;5;28;01mNone\u001b[39;00m:\n\u001b[1;32m    416\u001b[0m     \u001b[38;5;28mself\u001b[39m\u001b[38;5;241m.\u001b[39mfilename \u001b[38;5;241m=\u001b[39m _check_file_like(topology)\n\u001b[0;32m--> 417\u001b[0m     topology \u001b[38;5;241m=\u001b[39m \u001b[43m_topology_from_file_like\u001b[49m\u001b[43m(\u001b[49m\u001b[38;5;28;43mself\u001b[39;49m\u001b[38;5;241;43m.\u001b[39;49m\u001b[43mfilename\u001b[49m\u001b[43m,\u001b[49m\n\u001b[1;32m    418\u001b[0m \u001b[43m                                        \u001b[49m\u001b[43mtopology_format\u001b[49m\u001b[38;5;241;43m=\u001b[39;49m\u001b[43mtopology_format\u001b[49m\u001b[43m,\u001b[49m\n\u001b[1;32m    419\u001b[0m \u001b[43m                                        \u001b[49m\u001b[38;5;241;43m*\u001b[39;49m\u001b[38;5;241;43m*\u001b[39;49m\u001b[43mkwargs\u001b[49m\u001b[43m)\u001b[49m\n\u001b[1;32m    421\u001b[0m \u001b[38;5;28;01mif\u001b[39;00m topology \u001b[38;5;129;01mis\u001b[39;00m \u001b[38;5;129;01mnot\u001b[39;00m \u001b[38;5;28;01mNone\u001b[39;00m:\n\u001b[1;32m    422\u001b[0m     \u001b[38;5;28mself\u001b[39m\u001b[38;5;241m.\u001b[39m_topology \u001b[38;5;241m=\u001b[39m topology\n",
      "File \u001b[0;32m~/myenv/TFGenv/lib/python3.13/site-packages/MDAnalysis/core/universe.py:109\u001b[0m, in \u001b[0;36m_topology_from_file_like\u001b[0;34m(topology_file, topology_format, **kwargs)\u001b[0m\n\u001b[1;32m    107\u001b[0m \u001b[38;5;28;01mdef\u001b[39;00m\u001b[38;5;250m \u001b[39m\u001b[38;5;21m_topology_from_file_like\u001b[39m(topology_file, topology_format\u001b[38;5;241m=\u001b[39m\u001b[38;5;28;01mNone\u001b[39;00m,\n\u001b[1;32m    108\u001b[0m                              \u001b[38;5;241m*\u001b[39m\u001b[38;5;241m*\u001b[39mkwargs):\n\u001b[0;32m--> 109\u001b[0m     parser \u001b[38;5;241m=\u001b[39m \u001b[43mget_parser_for\u001b[49m\u001b[43m(\u001b[49m\u001b[43mtopology_file\u001b[49m\u001b[43m,\u001b[49m\u001b[43m \u001b[49m\u001b[38;5;28;43mformat\u001b[39;49m\u001b[38;5;241;43m=\u001b[39;49m\u001b[43mtopology_format\u001b[49m\u001b[43m)\u001b[49m\n\u001b[1;32m    111\u001b[0m     \u001b[38;5;28;01mtry\u001b[39;00m:\n\u001b[1;32m    112\u001b[0m         \u001b[38;5;28;01mwith\u001b[39;00m parser(topology_file) \u001b[38;5;28;01mas\u001b[39;00m p:\n",
      "File \u001b[0;32m~/myenv/TFGenv/lib/python3.13/site-packages/MDAnalysis/core/_get_readers.py:256\u001b[0m, in \u001b[0;36mget_parser_for\u001b[0;34m(filename, format)\u001b[0m\n\u001b[1;32m    244\u001b[0m \u001b[38;5;28;01mexcept\u001b[39;00m \u001b[38;5;167;01mValueError\u001b[39;00m:\n\u001b[1;32m    245\u001b[0m     errmsg \u001b[38;5;241m=\u001b[39m (\n\u001b[1;32m    246\u001b[0m         \u001b[38;5;124m\"\u001b[39m\u001b[38;5;124m'\u001b[39m\u001b[38;5;132;01m{0}\u001b[39;00m\u001b[38;5;124m'\u001b[39m\u001b[38;5;124m isn\u001b[39m\u001b[38;5;124m'\u001b[39m\u001b[38;5;124mt a valid topology format, nor a coordinate format\u001b[39m\u001b[38;5;130;01m\\n\u001b[39;00m\u001b[38;5;124m\"\u001b[39m\n\u001b[1;32m    247\u001b[0m         \u001b[38;5;124m\"\u001b[39m\u001b[38;5;124m   from which a topology can be minimally inferred.\u001b[39m\u001b[38;5;130;01m\\n\u001b[39;00m\u001b[38;5;124m\"\u001b[39m\n\u001b[0;32m   (...)\u001b[0m\n\u001b[1;32m    254\u001b[0m         \u001b[38;5;124m\"\u001b[39m\u001b[38;5;124m   https://github.com/MDAnalysis/mdanalysis/issues\u001b[39m\u001b[38;5;124m\"\u001b[39m\u001b[38;5;241m.\u001b[39mformat(\n\u001b[1;32m    255\u001b[0m             \u001b[38;5;28mformat\u001b[39m, _PARSERS\u001b[38;5;241m.\u001b[39mkeys()))\n\u001b[0;32m--> 256\u001b[0m     \u001b[38;5;28;01mraise\u001b[39;00m \u001b[38;5;167;01mValueError\u001b[39;00m(errmsg) \u001b[38;5;28;01mfrom\u001b[39;00m\u001b[38;5;250m \u001b[39m\u001b[38;5;28;01mNone\u001b[39;00m\n\u001b[1;32m    257\u001b[0m \u001b[38;5;28;01melse\u001b[39;00m:\n\u001b[1;32m    258\u001b[0m     \u001b[38;5;28;01mreturn\u001b[39;00m _PARSERS[\u001b[38;5;124m'\u001b[39m\u001b[38;5;124mMINIMAL\u001b[39m\u001b[38;5;124m'\u001b[39m]\n",
      "\u001b[0;31mValueError\u001b[0m: '' isn't a valid topology format, nor a coordinate format\n   from which a topology can be minimally inferred.\n   You can use 'Universe(topology, ..., topology_format=FORMAT)'\n   to explicitly specify the format and\n   override automatic detection. Known FORMATs are:\n   dict_keys(['PSF', 'TOP', 'PRMTOP', 'PARM7', 'PDB', 'ENT', 'XPDB', 'PQR', 'GRO', 'CRD', 'PDBQT', 'DMS', 'TPR', 'MOL2', 'DATA', 'LAMMPSDUMP', 'XYZ', 'TXYZ', 'ARC', 'GMS', 'CONFIG', 'HISTORY', 'XML', 'MMTF', 'GSD', 'MINIMAL', 'ITP', 'IN', 'FHIAIMS', 'PARMED', 'RDKIT', 'OPENMMTOPOLOGY', 'OPENMMAPP'])\n   See https://docs.mdanalysis.org/documentation_pages/topology/init.html#supported-topology-formats\n   For missing formats, raise an issue at \n   https://github.com/MDAnalysis/mdanalysis/issues"
     ]
    }
   ],
   "source": [
    "import MDAnalysis as mda\n",
    "from MDAnalysis.analysis import align\n",
    "import warnings\n",
    "import numpy as np\n",
    "import matplotlib.pyplot as plt\n",
    "import os\n",
    "\n",
    "warnings.filterwarnings('ignore') # suppress some MDAnalysis warnings about PSF files\n",
    "print(\"Using MDAnalysis version\", mda.__version__)\n",
    "\n",
    "\n",
    "aminoacids = [\n",
    "    \"ALA\", \"ARG\", \"ASN\", \"ASP\", \"CYS\", \"GLN\", \"GLU\", \"GLY\", \"HIS\", \n",
    "    \"ILE\", \"LEU\", \"LYS\", \"MET\", \"PHE\", \"PRO\", \"SER\", \"THR\", \"TRP\", \"TYR\", \"VAL\"\n",
    "]\n",
    "results_folder = \"resultats\"\n",
    "data_folder = \"dades\"\n",
    "molecule_file = input(\"quin fitxer de molecules vols analitzar? \")\n",
    "molecule_name = molecule_file.split(\".\")[0]\n",
    "\n",
    "def folder_check(folder_name):\n",
    "    if not os.path.exists(folder_name):\n",
    "        os.makedirs(folder_name)\n",
    "\n",
    "folder_check(results_folder)\n",
    "folder_check(results_folder + \"/\" + molecule_name)\n",
    "\n",
    "#funcions definides\n",
    "\n",
    "def histogram(hist_data, hist_name, save, title):\n",
    "    \"\"\"\n",
    "    prints and saves a histogram with the given distribution\n",
    "    \"\"\"\n",
    "    hist_data = np.array(hist_data)\n",
    "    \n",
    "    fig, ax = plt.subplots()\n",
    "    ax.hist(hist_data, bins=40 )\n",
    "    # plot the xdata locations on the x axis:\n",
    "    ax.plot(hist_data, 0*hist_data, 'd' )\n",
    "    ax.set_ylabel('Nombre de residuus amb aquesta RMSD')\n",
    "    ax.set_xlabel('RMSD '+ hist_name)\n",
    "    plt.title(title)\n",
    "    if save == True:\n",
    "        plt.savefig(results_folder + \"/\" + molecule_name+ \"/\"+'histogram_'+hist_name+'.png', dpi=1000, bbox_inches='tight')\n",
    "\n",
    "\n",
    "def average_structure(av_residu, av_univers, av_save, av_title):\n",
    "    \"\"\"\n",
    "    For a given aminoacid and a universe, returns the average shape of that aminoacid in the universe\n",
    "    \"\"\"\n",
    "    av_univers = av_univers.select_atoms(\"protein and resname \"+av_residu)\n",
    "    n_frames = len(av_univers.residues)\n",
    "    if n_frames ==0:\n",
    "        return\n",
    "    n_atoms = len(av_univers.residues[0].atoms)\n",
    "    with mda.Writer(results_folder + \"/\" + molecule_name+ \"/\" +av_residu +'.pdb', n_atoms) as w:\n",
    "        for ts in range(n_frames):\n",
    "            if len(av_univers.residues[ts].atoms)== n_atoms:\n",
    "                w.write(av_univers.residues[ts].atoms)\n",
    "            else: print(ts, \"té algun problema a la \" + av_residu)\n",
    "    av_univers=mda.Universe(results_folder + \"/\" + molecule_name+ \"/\"+av_residu +'.pdb')\n",
    "    average = align.AverageStructure(av_univers,\n",
    "                                     ref_frame=0).run()\n",
    "\n",
    "    ref = average.results.universe\n",
    "    ref.atoms.write(results_folder + \"/\" + molecule_name+ \"/\"+\"average_shape_\" + av_residu+ \" .pdb\")\n",
    "    \n",
    "    mda.analysis.align.AlignTraj(av_univers, ref, select=\"protein\", filename = results_folder + \"/\" + molecule_name+ \"/\" +\"aligned_sequence_\"+av_residu+\".pdb\").run()\n",
    "    dist_dist = mda.analysis.rms.RMSD(av_univers, ref)\n",
    "    dist_dist.run()\n",
    "    \n",
    "    histogram([av_result[2] for av_result in dist_dist.results.rmsd], av_residu, av_save,av_title)\n",
    "    print(\"Hi ha \" + str(len(dist_dist.results.rmsd))+ \" \" + av_residu) #Debuging\n",
    "    os.remove(results_folder + \"/\" + molecule_name+ \"/\" +av_residu +'.pdb')\n",
    "\n",
    "#Main\n",
    "u = mda.Universe(data_folder+\"/\"+molecule_file)\n",
    "#Es determinen les estructures mitjanes\n",
    "save_histograms= True\n",
    "for aminoacid in aminoacids:\n",
    "    average_structure(aminoacid, u, save_histograms, molecule_name)\n",
    "\n"
   ]
  },
  {
   "cell_type": "code",
   "execution_count": null,
   "id": "d44d35c8-bede-4deb-bff0-bb5e3b5b128d",
   "metadata": {},
   "outputs": [],
   "source": []
  },
  {
   "cell_type": "code",
   "execution_count": null,
   "id": "951ebcbe-41a4-47d5-8c0f-eb16d2c433dc",
   "metadata": {},
   "outputs": [],
   "source": []
  },
  {
   "cell_type": "code",
   "execution_count": 41,
   "id": "bfcb2a7e-17b2-4630-8b83-cda63a2b9298",
   "metadata": {},
   "outputs": [],
   "source": [
    "#Funcions definides que no han resultat útils al final\n",
    "def distortion_distribution(dist_univers, dist_residu, dist_reference):\n",
    "    \"\"\"\n",
    "    for a given aminoacid it calclates the RMSD \n",
    "    \"\"\"\n",
    "    dist_univers = dist_univers.select_atoms(\"resname \"+dist_residu)\n",
    "    distribution= []\n",
    "    for res_i in dist_univers.residues:\n",
    "        distribution.append(mda.analysis.rms.RMSD(dist_reference, res_i.atoms))\n",
    "    histogram(distribution, dist_residu)\n",
    "    print(len(distribution))\n",
    "    \n",
    "\n",
    "def max_list(m_list, m_select):\n",
    "    \"\"\"\n",
    "    Given a list of tuples it returns the one that has the max value at a given position\n",
    "    \"\"\"\n",
    "    m_max= m_list[0]\n",
    "    for element in m_list:\n",
    "        if element[m_select]>m_max[m_select]:\n",
    "            m_max = element\n",
    "    return m_max\n",
    "\n",
    "def n_alpha_dist(protein):\n",
    "    \"\"\"\n",
    "    For a given protein, it returns the distance between the c_alpha atom and its -COO atached carbon for each residue\n",
    "    \"\"\"\n",
    "    if not isinstance(protein, mda.core.universe.Universe):\n",
    "        raise TypeError(f\"Expected input_value to be of type mda.core.universe.Universe, but got {type(protein).__name__}\")\n",
    "    distances = []\n",
    "    for res in protein.residues:\n",
    "        nitrogen = res.atoms.select_atoms(\"name N\")\n",
    "        carbon_a = res.atoms.select_atoms(\"name CA\")\n",
    "        if len(nitrogen) == 1 and len(carbon_a) == 1:\n",
    "            distance = np.linalg.norm(nitrogen.positions[0] - carbon_a.positions[0])\n",
    "            distances.append((res.resid, res.resname, distance))\n",
    "        else:\n",
    "            print(f\"Skipping residue {res.resid} ({res.resname}) due to lacking infotmation\")\n",
    "    return distances\n"
   ]
  },
  {
   "cell_type": "code",
   "execution_count": null,
   "id": "d21cbf1e-1713-4311-9032-d47ac498b8b5",
   "metadata": {},
   "outputs": [],
   "source": []
  }
 ],
 "metadata": {
  "kernelspec": {
   "display_name": "Python (TFG_env)",
   "language": "python",
   "name": "tfg_env"
  },
  "language_info": {
   "codemirror_mode": {
    "name": "ipython",
    "version": 3
   },
   "file_extension": ".py",
   "mimetype": "text/x-python",
   "name": "python",
   "nbconvert_exporter": "python",
   "pygments_lexer": "ipython3",
   "version": "3.13.3"
  }
 },
 "nbformat": 4,
 "nbformat_minor": 5
}
